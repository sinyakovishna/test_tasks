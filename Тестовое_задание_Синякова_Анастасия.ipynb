{
  "nbformat": 4,
  "nbformat_minor": 0,
  "metadata": {
    "colab": {
      "name": "Тестовое задание Синякова Анастасия.ipynb",
      "provenance": []
    },
    "kernelspec": {
      "name": "python3",
      "display_name": "Python 3"
    },
    "language_info": {
      "name": "python"
    }
  },
  "cells": [
    {
      "cell_type": "markdown",
      "metadata": {
        "id": "SwIWvPvnuD59"
      },
      "source": [
        "# **Задача:**\n",
        "\n",
        "Есть флоу обработки заявки:\n",
        "\n",
        "Поступление заявки  → Звонок опреатора → Вводный урок  → Первая оплата\n",
        "\n",
        "Пояснения:\n",
        "\n",
        "- Звонок оператора делается с целью довести потенциального студента до вводного урока\n",
        "- Вводный урок проводится с целью продемонстрировать работу платформы и показать, какие мы крутые → как следствие человек с большей вероятностью купит (гипотеза).\n",
        "\n",
        "Данные: applicant_task.csv\n",
        "\n",
        "\n",
        "```\n",
        " 0   order_id - id заявки\n",
        " 1   source - откуда поступила заявка\n",
        " 2   application_datetime - когда поступила заявка\n",
        " 3   gender - пол\n",
        " 4   first_call - время первого звонка оператора\n",
        " 5   first_reach - время звонка оператора, на который ответили\n",
        " 6   operator_group_type - тип группы оператора 1 линии\n",
        " 7   operator_group_name - название группы оператора 1 линии\n",
        " 8   trial_appointment_datetime -  время проведенеия вводного урока\n",
        " 9   appointment_added_by_id - id оператора, который назначил вводный урок\n",
        "10   is_paid - поступила первая оплата = 1, не поступила = 0\n",
        "```\n",
        "\n",
        "\n",
        "**Нужно:**\n",
        "\n",
        "Изучить данные и дать рекомендации для менеджера, чтобы увеличить конверсию из поступивших заявок в первые оплаты."
      ]
    },
    {
      "cell_type": "markdown",
      "metadata": {
        "id": "ZFJ3k3l4Zvi4"
      },
      "source": [
        "**Первый шаг:** \n",
        "\n",
        "Проверим наши данные, действительно ли они соотвествуют заявленным в условии.\n",
        "\n",
        "\n",
        "\n"
      ]
    },
    {
      "cell_type": "code",
      "metadata": {
        "id": "bABdJOKrXoJj"
      },
      "source": [
        "import pandas as pd\n",
        "import numpy as np\n",
        "import matplotlib.pyplot as plt"
      ],
      "execution_count": null,
      "outputs": []
    },
    {
      "cell_type": "code",
      "metadata": {
        "colab": {
          "resources": {
            "http://localhost:8080/nbextensions/google.colab/files.js": {
              "data": "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",
              "ok": true,
              "headers": [
                [
                  "content-type",
                  "application/javascript"
                ]
              ],
              "status": 200,
              "status_text": ""
            }
          },
          "base_uri": "https://localhost:8080/",
          "height": 72
        },
        "id": "Gn4DGPeCaV9w",
        "outputId": "d34e29a1-3411-495e-d168-c7acd4ce0252"
      },
      "source": [
        "from google.colab import files\n",
        "uploaded = files.upload()"
      ],
      "execution_count": null,
      "outputs": [
        {
          "output_type": "display_data",
          "data": {
            "text/html": [
              "\n",
              "     <input type=\"file\" id=\"files-ce992e3a-c4aa-4551-9f44-5956e2769be8\" name=\"files[]\" multiple disabled\n",
              "        style=\"border:none\" />\n",
              "     <output id=\"result-ce992e3a-c4aa-4551-9f44-5956e2769be8\">\n",
              "      Upload widget is only available when the cell has been executed in the\n",
              "      current browser session. Please rerun this cell to enable.\n",
              "      </output>\n",
              "      <script src=\"/nbextensions/google.colab/files.js\"></script> "
            ],
            "text/plain": [
              "<IPython.core.display.HTML object>"
            ]
          },
          "metadata": {
            "tags": []
          }
        },
        {
          "output_type": "stream",
          "text": [
            "Saving applicant_task.csv to applicant_task (2).csv\n"
          ],
          "name": "stdout"
        }
      ]
    },
    {
      "cell_type": "code",
      "metadata": {
        "id": "VskWawCXa3gF"
      },
      "source": [
        "data = pd.read_csv(\"applicant_task.csv\", parse_dates=['application_datetime', 'first_call', 'first_reach', 'trial_appointment_datetime'])"
      ],
      "execution_count": null,
      "outputs": []
    },
    {
      "cell_type": "code",
      "metadata": {
        "colab": {
          "base_uri": "https://localhost:8080/"
        },
        "id": "ickwyvd_eFGN",
        "outputId": "500a5af5-e7cd-46b5-a119-4c3b038df3a1"
      },
      "source": [
        "data.shape"
      ],
      "execution_count": null,
      "outputs": [
        {
          "output_type": "execute_result",
          "data": {
            "text/plain": [
              "(10000, 12)"
            ]
          },
          "metadata": {
            "tags": []
          },
          "execution_count": 120
        }
      ]
    },
    {
      "cell_type": "code",
      "metadata": {
        "colab": {
          "base_uri": "https://localhost:8080/",
          "height": 299
        },
        "id": "m4aVgcbxbBb0",
        "outputId": "96426534-2bd3-43b0-e84a-de7a47d6e3f1"
      },
      "source": [
        "data.head()\n"
      ],
      "execution_count": null,
      "outputs": [
        {
          "output_type": "execute_result",
          "data": {
            "text/html": [
              "<div>\n",
              "<style scoped>\n",
              "    .dataframe tbody tr th:only-of-type {\n",
              "        vertical-align: middle;\n",
              "    }\n",
              "\n",
              "    .dataframe tbody tr th {\n",
              "        vertical-align: top;\n",
              "    }\n",
              "\n",
              "    .dataframe thead th {\n",
              "        text-align: right;\n",
              "    }\n",
              "</style>\n",
              "<table border=\"1\" class=\"dataframe\">\n",
              "  <thead>\n",
              "    <tr style=\"text-align: right;\">\n",
              "      <th></th>\n",
              "      <th>Unnamed: 0</th>\n",
              "      <th>order_id</th>\n",
              "      <th>source</th>\n",
              "      <th>application_datetime</th>\n",
              "      <th>gender</th>\n",
              "      <th>first_call</th>\n",
              "      <th>first_reach</th>\n",
              "      <th>operator_group_type</th>\n",
              "      <th>operator_group_name</th>\n",
              "      <th>trial_appointment_datetime</th>\n",
              "      <th>appointment_added_by_id</th>\n",
              "      <th>is_paid</th>\n",
              "    </tr>\n",
              "  </thead>\n",
              "  <tbody>\n",
              "    <tr>\n",
              "      <th>0</th>\n",
              "      <td>0</td>\n",
              "      <td>10457322</td>\n",
              "      <td>a636bcf354a837fb5c25c3d5b940170b</td>\n",
              "      <td>2020-04-03 04:10:45</td>\n",
              "      <td>1.0</td>\n",
              "      <td>2020-04-03 16:43:59.508792</td>\n",
              "      <td>2020-04-03 22:11:27.455366</td>\n",
              "      <td>a170e8b5b0085420fa52f9f9e1d546f9</td>\n",
              "      <td>d4f622b69e50e86a65cd6fae4bcf575f</td>\n",
              "      <td>2020-04-04 15:28:14.798018</td>\n",
              "      <td>6620229</td>\n",
              "      <td>0</td>\n",
              "    </tr>\n",
              "    <tr>\n",
              "      <th>1</th>\n",
              "      <td>1</td>\n",
              "      <td>11236929</td>\n",
              "      <td>91ce888e6774bd668a675b5640499103</td>\n",
              "      <td>2020-07-12 03:31:39</td>\n",
              "      <td>NaN</td>\n",
              "      <td>2020-07-12 04:47:12.312267</td>\n",
              "      <td>2020-07-12 07:05:38.094529</td>\n",
              "      <td>a170e8b5b0085420fa52f9f9e1d546f9</td>\n",
              "      <td>d4f622b69e50e86a65cd6fae4bcf575f</td>\n",
              "      <td>2020-07-12 15:02:07.545403</td>\n",
              "      <td>4578767</td>\n",
              "      <td>0</td>\n",
              "    </tr>\n",
              "    <tr>\n",
              "      <th>2</th>\n",
              "      <td>2</td>\n",
              "      <td>10246280</td>\n",
              "      <td>91ce888e6774bd668a675b5640499103</td>\n",
              "      <td>2020-02-01 03:19:28</td>\n",
              "      <td>NaN</td>\n",
              "      <td>2020-02-04 04:45:20.910754</td>\n",
              "      <td>2020-02-04 10:42:35.204203</td>\n",
              "      <td>e908f62885515872936a2bf07e5960a0</td>\n",
              "      <td>a0b8ef7535f9201f77c5a97d2ba4db2b</td>\n",
              "      <td>2020-02-02 07:07:41.388133</td>\n",
              "      <td>6290758</td>\n",
              "      <td>0</td>\n",
              "    </tr>\n",
              "    <tr>\n",
              "      <th>3</th>\n",
              "      <td>3</td>\n",
              "      <td>11058994</td>\n",
              "      <td>a636bcf354a837fb5c25c3d5b940170b</td>\n",
              "      <td>2020-05-19 06:18:16</td>\n",
              "      <td>0.0</td>\n",
              "      <td>2020-05-19 07:18:45.609637</td>\n",
              "      <td>2020-05-19 08:39:54.048419</td>\n",
              "      <td>a170e8b5b0085420fa52f9f9e1d546f9</td>\n",
              "      <td>d4f622b69e50e86a65cd6fae4bcf575f</td>\n",
              "      <td>2020-05-19 13:01:02.901309</td>\n",
              "      <td>4700850</td>\n",
              "      <td>0</td>\n",
              "    </tr>\n",
              "    <tr>\n",
              "      <th>4</th>\n",
              "      <td>4</td>\n",
              "      <td>10265283</td>\n",
              "      <td>91ce888e6774bd668a675b5640499103</td>\n",
              "      <td>2020-02-09 21:59:18</td>\n",
              "      <td>NaN</td>\n",
              "      <td>2020-02-10 09:14:45.941424</td>\n",
              "      <td>2020-02-10 20:01:01.297674</td>\n",
              "      <td>a170e8b5b0085420fa52f9f9e1d546f9</td>\n",
              "      <td>d4f622b69e50e86a65cd6fae4bcf575f</td>\n",
              "      <td>2020-02-11 05:33:59.680231</td>\n",
              "      <td>4500083</td>\n",
              "      <td>0</td>\n",
              "    </tr>\n",
              "  </tbody>\n",
              "</table>\n",
              "</div>"
            ],
            "text/plain": [
              "   Unnamed: 0  order_id  ... appointment_added_by_id is_paid\n",
              "0           0  10457322  ...                 6620229       0\n",
              "1           1  11236929  ...                 4578767       0\n",
              "2           2  10246280  ...                 6290758       0\n",
              "3           3  11058994  ...                 4700850       0\n",
              "4           4  10265283  ...                 4500083       0\n",
              "\n",
              "[5 rows x 12 columns]"
            ]
          },
          "metadata": {
            "tags": []
          },
          "execution_count": 121
        }
      ]
    },
    {
      "cell_type": "code",
      "metadata": {
        "colab": {
          "base_uri": "https://localhost:8080/"
        },
        "id": "Ha_6nKR_dYVg",
        "outputId": "0796d7a1-1fb7-4123-a70d-808ff82778d5"
      },
      "source": [
        "data.columns"
      ],
      "execution_count": null,
      "outputs": [
        {
          "output_type": "execute_result",
          "data": {
            "text/plain": [
              "Index(['Unnamed: 0', 'order_id', 'source', 'application_datetime', 'gender',\n",
              "       'first_call', 'first_reach', 'operator_group_type',\n",
              "       'operator_group_name', 'trial_appointment_datetime',\n",
              "       'appointment_added_by_id', 'is_paid'],\n",
              "      dtype='object')"
            ]
          },
          "metadata": {
            "tags": []
          },
          "execution_count": 122
        }
      ]
    },
    {
      "cell_type": "code",
      "metadata": {
        "colab": {
          "base_uri": "https://localhost:8080/"
        },
        "id": "HgvvavP5dk6N",
        "outputId": "8da953eb-223d-460a-8e53-81a9907d07a2"
      },
      "source": [
        "data.dtypes"
      ],
      "execution_count": null,
      "outputs": [
        {
          "output_type": "execute_result",
          "data": {
            "text/plain": [
              "Unnamed: 0                             int64\n",
              "order_id                               int64\n",
              "source                                object\n",
              "application_datetime          datetime64[ns]\n",
              "gender                               float64\n",
              "first_call                    datetime64[ns]\n",
              "first_reach                   datetime64[ns]\n",
              "operator_group_type                   object\n",
              "operator_group_name                   object\n",
              "trial_appointment_datetime    datetime64[ns]\n",
              "appointment_added_by_id                int64\n",
              "is_paid                                int64\n",
              "dtype: object"
            ]
          },
          "metadata": {
            "tags": []
          },
          "execution_count": 123
        }
      ]
    },
    {
      "cell_type": "code",
      "metadata": {
        "colab": {
          "base_uri": "https://localhost:8080/"
        },
        "id": "Ru8Puz0QGLhF",
        "outputId": "61bdc339-d51f-4164-9472-cd8587c5e37f"
      },
      "source": [
        "data.isna().sum()"
      ],
      "execution_count": null,
      "outputs": [
        {
          "output_type": "execute_result",
          "data": {
            "text/plain": [
              "Unnamed: 0                       0\n",
              "order_id                         0\n",
              "source                           0\n",
              "application_datetime             0\n",
              "gender                        4916\n",
              "first_call                       0\n",
              "first_reach                    582\n",
              "operator_group_type              0\n",
              "operator_group_name              0\n",
              "trial_appointment_datetime       0\n",
              "appointment_added_by_id          0\n",
              "is_paid                          0\n",
              "dtype: int64"
            ]
          },
          "metadata": {
            "tags": []
          },
          "execution_count": 124
        }
      ]
    },
    {
      "cell_type": "code",
      "metadata": {
        "colab": {
          "base_uri": "https://localhost:8080/"
        },
        "id": "1U3YxNCKaj0J",
        "outputId": "a8ae401e-cfab-473a-987d-f2b55507d5e7"
      },
      "source": [
        "data.isnull().sum()"
      ],
      "execution_count": null,
      "outputs": [
        {
          "output_type": "execute_result",
          "data": {
            "text/plain": [
              "Unnamed: 0                       0\n",
              "order_id                         0\n",
              "source                           0\n",
              "application_datetime             0\n",
              "gender                        4916\n",
              "first_call                       0\n",
              "first_reach                    582\n",
              "operator_group_type              0\n",
              "operator_group_name              0\n",
              "trial_appointment_datetime       0\n",
              "appointment_added_by_id          0\n",
              "is_paid                          0\n",
              "dtype: int64"
            ]
          },
          "metadata": {
            "tags": []
          },
          "execution_count": 125
        }
      ]
    },
    {
      "cell_type": "markdown",
      "metadata": {
        "id": "ZTH3wAGSeR0Q"
      },
      "source": [
        "Около половины значений столбца gender пропущено."
      ]
    },
    {
      "cell_type": "markdown",
      "metadata": {
        "id": "zqePA9CYYN3P"
      },
      "source": [
        "Проверим временные данные."
      ]
    },
    {
      "cell_type": "code",
      "metadata": {
        "colab": {
          "base_uri": "https://localhost:8080/"
        },
        "id": "rIlVJXheYNdV",
        "outputId": "ac3f2c93-f089-46d9-b7a5-ff5e39c636f1"
      },
      "source": [
        "print(\"Максимальное и минимальное время поступления заявки:\")\n",
        "print(data.application_datetime.min())\n",
        "print(data.application_datetime.max())\n",
        "print()\n",
        "print(\"Максимальное и минимальное время первого звонка:\")\n",
        "print(data.first_call.min())\n",
        "print(data.first_call.max())\n",
        "print()\n",
        "print(\"Максимальное и минимальное время звонка, на который ответили:\")\n",
        "print(data.first_reach.min())\n",
        "print(data.first_reach.max())\n",
        "print()\n",
        "print(\"Максимальное и минимальное время проведения первого урока:\")\n",
        "print(data.trial_appointment_datetime.min())\n",
        "print(data.trial_appointment_datetime.max())"
      ],
      "execution_count": null,
      "outputs": [
        {
          "output_type": "stream",
          "text": [
            "Максимальное и минимальное время поступления заявки:\n",
            "2019-12-27 19:08:50\n",
            "2021-01-05 20:03:06\n",
            "\n",
            "Максимальное и минимальное время первого звонка:\n",
            "2019-12-28 00:38:15.965430\n",
            "2021-03-31 22:19:53.127281\n",
            "\n",
            "Максимальное и минимальное время звонка, на который ответили:\n",
            "2019-12-28 01:44:38.525492\n",
            "2021-04-01 06:41:11.572569\n",
            "\n",
            "Максимальное и минимальное время проведения первого урока:\n",
            "2019-12-28 03:57:38.017163\n",
            "2021-03-29 12:44:07.014136\n"
          ],
          "name": "stdout"
        }
      ]
    },
    {
      "cell_type": "markdown",
      "metadata": {
        "id": "b9bb0x1gatoW"
      },
      "source": [
        "Наши данные собраны с промежутка декабрь 2019 года по апрель 2021."
      ]
    },
    {
      "cell_type": "markdown",
      "metadata": {
        "id": "fg5EeR2Zw_S2"
      },
      "source": [
        "**Второй шаг:**\n",
        "\n",
        "Разделим наши данные на две выборки (оплатившие и не оплатившие) и сравним их."
      ]
    },
    {
      "cell_type": "markdown",
      "metadata": {
        "id": "nOpRZbvQef1v"
      },
      "source": [
        "Удалим лишние столбцы и строки."
      ]
    },
    {
      "cell_type": "code",
      "metadata": {
        "id": "S8hNmfzJdEE1"
      },
      "source": [
        "data = data.drop(['Unnamed: 0'], axis=1)"
      ],
      "execution_count": null,
      "outputs": []
    },
    {
      "cell_type": "code",
      "metadata": {
        "id": "eguZ-Vk-fjOo"
      },
      "source": [
        "paid = data[data['is_paid'] == 1]"
      ],
      "execution_count": null,
      "outputs": []
    },
    {
      "cell_type": "code",
      "metadata": {
        "id": "Gm7ukR4mfnc0"
      },
      "source": [
        "unpaid = data[data['is_paid'] == 0]"
      ],
      "execution_count": null,
      "outputs": []
    },
    {
      "cell_type": "markdown",
      "metadata": {
        "id": "CIVmyPY0EBqR"
      },
      "source": [
        "Посмотрим, сколько у нас пропущенных значений в разных таблицах."
      ]
    },
    {
      "cell_type": "code",
      "metadata": {
        "colab": {
          "base_uri": "https://localhost:8080/"
        },
        "id": "ICauJ3qdEIP-",
        "outputId": "cfd73362-5a39-4470-c214-cb2f52250615"
      },
      "source": [
        "paid.isnull().sum()"
      ],
      "execution_count": null,
      "outputs": [
        {
          "output_type": "execute_result",
          "data": {
            "text/plain": [
              "order_id                         0\n",
              "source                           0\n",
              "application_datetime             0\n",
              "gender                        2446\n",
              "first_call                       0\n",
              "first_reach                    284\n",
              "operator_group_type              0\n",
              "operator_group_name              0\n",
              "trial_appointment_datetime       0\n",
              "appointment_added_by_id          0\n",
              "is_paid                          0\n",
              "dtype: int64"
            ]
          },
          "metadata": {
            "tags": []
          },
          "execution_count": 130
        }
      ]
    },
    {
      "cell_type": "code",
      "metadata": {
        "colab": {
          "base_uri": "https://localhost:8080/"
        },
        "id": "la2NgfRkEXu0",
        "outputId": "ec5353e0-5457-400b-d7cf-7129132373a3"
      },
      "source": [
        "unpaid.isnull().sum()"
      ],
      "execution_count": null,
      "outputs": [
        {
          "output_type": "execute_result",
          "data": {
            "text/plain": [
              "order_id                         0\n",
              "source                           0\n",
              "application_datetime             0\n",
              "gender                        2470\n",
              "first_call                       0\n",
              "first_reach                    298\n",
              "operator_group_type              0\n",
              "operator_group_name              0\n",
              "trial_appointment_datetime       0\n",
              "appointment_added_by_id          0\n",
              "is_paid                          0\n",
              "dtype: int64"
            ]
          },
          "metadata": {
            "tags": []
          },
          "execution_count": 131
        }
      ]
    },
    {
      "cell_type": "markdown",
      "metadata": {
        "id": "QG_JzYSoEcjS"
      },
      "source": [
        "Как мы видим, в обоих случаях пропущенные значения составляют примерно тот же процент, что и в целой таблице. Это значит, что столбцом gender можно принебречь, так как данных слишком мало, чтобы на их основании делать выводы."
      ]
    },
    {
      "cell_type": "markdown",
      "metadata": {
        "id": "dpIWYIbsx2XT"
      },
      "source": [
        "Начнем с источников заявок. Посмотрим, сколько всего у нас источников, и из каких клиенты чаще всего конвертировались в оплату."
      ]
    },
    {
      "cell_type": "code",
      "metadata": {
        "colab": {
          "base_uri": "https://localhost:8080/"
        },
        "id": "x3namRvIirIr",
        "outputId": "7c558985-1df4-4a78-d575-78aacfe86300"
      },
      "source": [
        "data.source.nunique()"
      ],
      "execution_count": null,
      "outputs": [
        {
          "output_type": "execute_result",
          "data": {
            "text/plain": [
              "29"
            ]
          },
          "metadata": {
            "tags": []
          },
          "execution_count": 132
        }
      ]
    },
    {
      "cell_type": "code",
      "metadata": {
        "colab": {
          "base_uri": "https://localhost:8080/"
        },
        "id": "oNc1_vXpF54P",
        "outputId": "3b34cc9e-32a3-4ad9-a9a0-92585805b294"
      },
      "source": [
        "data.source.value_counts()"
      ],
      "execution_count": null,
      "outputs": [
        {
          "output_type": "execute_result",
          "data": {
            "text/plain": [
              "91ce888e6774bd668a675b5640499103    7918\n",
              "4502821cb71c7f2195cd4e542273fe38     802\n",
              "a636bcf354a837fb5c25c3d5b940170b     436\n",
              "4cedf3fbf9f7dc88b37bc42c66908c06     131\n",
              "2916b0834eaf3921234cdd5f2a3d0a3a     126\n",
              "f12c0522bfa2143e29832a5f3bf7c0b5      99\n",
              "f5bffc1a757263e7b8b397484d2737d7      58\n",
              "2c3991193c1da7c9e7ea14adbaf4ea50      53\n",
              "e7d707a26e7f7b6ff52c489c60e429b1      53\n",
              "cd48e195ee1a590504a0515b4f9b41e8      50\n",
              "ac237ddf527733d443d6e3440d49a970      49\n",
              "0cbc9029b6168ca138da344f4a06c2f7      42\n",
              "f1a1996543f7c52fb277501d7f8abed9      27\n",
              "b26ad2c2638544ba42dd2c16c77dd91a      25\n",
              "2f57c79e2eeea3320dfdabe80ceecf64      24\n",
              "583eb722b77d6c7791d1811f6a42450c      24\n",
              "bdcf5fc18e4f01990300ed0d0a306428      15\n",
              "8fe139ceee6bc394d46b1e960606a3d1      13\n",
              "b0521b815783c8a1c07cab1f61a43b27       8\n",
              "a77d267d7c75b97b497e18d447f8b67e       8\n",
              "302b25d9f5e394b656b20a70615a52af       8\n",
              "86b0d8c2e04798d4b539e1e3f04e5a45       7\n",
              "3f777e3bd400abe911a00a23a7891c52       5\n",
              "2e27e68a4da0111ddf644ab75a93ac12       5\n",
              "6d58a8f62efa7d79de4448ad1e7329c3       4\n",
              "5fea691deed5cf3730f923ad806435ba       4\n",
              "6d3cdcb17091b57c845310fedeb00a92       3\n",
              "05a484a48745449b5ac089f0aa6192f4       2\n",
              "f9314fcca336261ee5ee4657b4fdcdd6       1\n",
              "Name: source, dtype: int64"
            ]
          },
          "metadata": {
            "tags": []
          },
          "execution_count": 133
        }
      ]
    },
    {
      "cell_type": "code",
      "metadata": {
        "colab": {
          "base_uri": "https://localhost:8080/",
          "height": 781
        },
        "id": "UVLzrLkcU9_8",
        "outputId": "cfb71732-07b7-4902-8514-f5feee5a97fb"
      },
      "source": [
        "fig, ax = plt.subplots()\n",
        "ax.bar(paid.source.value_counts().index, paid.source.value_counts().values, width=-0.4, align='edge')\n",
        "ax.bar(unpaid.source.value_counts().index, unpaid.source.value_counts().values, width=0.4, align='edge')\n",
        "ax.set_xticklabels(paid.source.value_counts().index, rotation=90)\n",
        "ax.legend(labels=['paid', 'unpaid'])\n",
        "fig.set_size_inches([20, 10])\n",
        "plt.show()"
      ],
      "execution_count": null,
      "outputs": [
        {
          "output_type": "display_data",
          "data": {
            "image/png": "[encoded data removed]",
            "text/plain": [
              "<Figure size 1440x720 with 1 Axes>"
            ]
          },
          "metadata": {
            "tags": [],
            "needs_background": "light"
          }
        }
      ]
    },
    {
      "cell_type": "markdown",
      "metadata": {
        "id": "eeDyCnMflj1Y"
      },
      "source": [
        "Как мы видим из графика, источники трафика не влияют на конверсию в оплату - количество звонков с одного источника для оплативших и не оплативших примерно одинаковое."
      ]
    },
    {
      "cell_type": "markdown",
      "metadata": {
        "id": "5R6oaAegcY3i"
      },
      "source": [
        "Не очень понятно, что за данные operator_group_type - тип группы оператора 1 линии и operator_group_name - название группы оператора 1 линии.\n",
        "Посмотрим, влияют ли они на конверсию в оплату.\n",
        "\n"
      ]
    },
    {
      "cell_type": "code",
      "metadata": {
        "colab": {
          "base_uri": "https://localhost:8080/"
        },
        "id": "dFZr64pubPYJ",
        "outputId": "dd2f47ef-e11d-4c1b-8283-e059e7dac034"
      },
      "source": [
        "paid.operator_group_type.value_counts()"
      ],
      "execution_count": null,
      "outputs": [
        {
          "output_type": "execute_result",
          "data": {
            "text/plain": [
              "a170e8b5b0085420fa52f9f9e1d546f9    3320\n",
              "e908f62885515872936a2bf07e5960a0    1638\n",
              "21790c97eeb6336e5f0fdb9ef4de636f      60\n",
              "Name: operator_group_type, dtype: int64"
            ]
          },
          "metadata": {
            "tags": []
          },
          "execution_count": 135
        }
      ]
    },
    {
      "cell_type": "code",
      "metadata": {
        "colab": {
          "base_uri": "https://localhost:8080/"
        },
        "id": "6_mVFePYbVIa",
        "outputId": "264179da-1caa-4471-ac0d-a69427f22b5a"
      },
      "source": [
        "unpaid.operator_group_type.value_counts()"
      ],
      "execution_count": null,
      "outputs": [
        {
          "output_type": "execute_result",
          "data": {
            "text/plain": [
              "a170e8b5b0085420fa52f9f9e1d546f9    3237\n",
              "e908f62885515872936a2bf07e5960a0    1692\n",
              "21790c97eeb6336e5f0fdb9ef4de636f      53\n",
              "Name: operator_group_type, dtype: int64"
            ]
          },
          "metadata": {
            "tags": []
          },
          "execution_count": 136
        }
      ]
    },
    {
      "cell_type": "code",
      "metadata": {
        "colab": {
          "base_uri": "https://localhost:8080/"
        },
        "id": "xS1Uz7jlbno-",
        "outputId": "04619d7e-99ed-44b7-b0e9-0501e69cdcce"
      },
      "source": [
        "paid.operator_group_name.value_counts()"
      ],
      "execution_count": null,
      "outputs": [
        {
          "output_type": "execute_result",
          "data": {
            "text/plain": [
              "d4f622b69e50e86a65cd6fae4bcf575f    3286\n",
              "a0b8ef7535f9201f77c5a97d2ba4db2b    1638\n",
              "41fcb0f55a2687355fff238d3bdf319e      22\n",
              "3b574fbbeb9251641816c6c5e8140e62      19\n",
              "d6a7e0ab0512ccc44e702ea978ebc5df      15\n",
              "c2e1985524a741220fbf9448ecc94d0e      10\n",
              "63af698d7d79dadbc44ac71a068acea0       7\n",
              "4066be2336930bd56d04cb32065ba808       6\n",
              "6d208704ad0de706bd2da353ba4e4cb8       4\n",
              "7048270b6e5da5858703cd2ef2998649       3\n",
              "bec94779f5f3577acf456dda29461f53       1\n",
              "50b18bd0f19a885de1c8de8c46261398       1\n",
              "583602883825b5ec01a226e77d08d41b       1\n",
              "8fb9f6ee463b7588838293212f19a7ce       1\n",
              "d6805ace660f687196d562c6dd4ecad0       1\n",
              "73231aa8aa7a12c078c764b0fd686b34       1\n",
              "edb56bd0223fe29944d00db73880c963       1\n",
              "71f28acc49d59768329c29ca33acb36c       1\n",
              "Name: operator_group_name, dtype: int64"
            ]
          },
          "metadata": {
            "tags": []
          },
          "execution_count": 137
        }
      ]
    },
    {
      "cell_type": "code",
      "metadata": {
        "colab": {
          "base_uri": "https://localhost:8080/"
        },
        "id": "7MxXUAU4b0Mf",
        "outputId": "13d8e430-e9af-4928-9ee5-069a6074d423"
      },
      "source": [
        "unpaid.operator_group_name.value_counts()"
      ],
      "execution_count": null,
      "outputs": [
        {
          "output_type": "execute_result",
          "data": {
            "text/plain": [
              "d4f622b69e50e86a65cd6fae4bcf575f    3209\n",
              "a0b8ef7535f9201f77c5a97d2ba4db2b    1692\n",
              "41fcb0f55a2687355fff238d3bdf319e      17\n",
              "d6a7e0ab0512ccc44e702ea978ebc5df      15\n",
              "3b574fbbeb9251641816c6c5e8140e62      12\n",
              "c2e1985524a741220fbf9448ecc94d0e      10\n",
              "63af698d7d79dadbc44ac71a068acea0       7\n",
              "73231aa8aa7a12c078c764b0fd686b34       4\n",
              "798773b75454657007fb8b39efbc312a       2\n",
              "2d651a7c0cd492ac0ea68032f936f610       2\n",
              "27874c9802470669925ec02eb0c2fd64       2\n",
              "4066be2336930bd56d04cb32065ba808       2\n",
              "01cf9adec108aa0cd5dc4e39c2af1e42       2\n",
              "43c831a1511b89eeeb1c9086c4e90f35       1\n",
              "71f28acc49d59768329c29ca33acb36c       1\n",
              "6d208704ad0de706bd2da353ba4e4cb8       1\n",
              "ff2fd2f0bf05f9ebdfbff51ccbac77c9       1\n",
              "bec94779f5f3577acf456dda29461f53       1\n",
              "50b18bd0f19a885de1c8de8c46261398       1\n",
              "Name: operator_group_name, dtype: int64"
            ]
          },
          "metadata": {
            "tags": []
          },
          "execution_count": 138
        }
      ]
    },
    {
      "cell_type": "markdown",
      "metadata": {
        "id": "xekF7DB1ecO8"
      },
      "source": [
        "Как мы видим, эти столбцы существенно не влияют на конверсию в оплату."
      ]
    },
    {
      "cell_type": "markdown",
      "metadata": {
        "id": "4K0LSdz-gI9t"
      },
      "source": [
        "Проверим наших менеджеров. Посмотрим, у кого из них было максимальное количесвто звонков, перешедних в оплату."
      ]
    },
    {
      "cell_type": "code",
      "metadata": {
        "colab": {
          "base_uri": "https://localhost:8080/"
        },
        "id": "a9O2W0UmgYAl",
        "outputId": "c34627e7-6bfa-47d7-b486-691908bacf36"
      },
      "source": [
        "paid.appointment_added_by_id.value_counts().head(20)"
      ],
      "execution_count": null,
      "outputs": [
        {
          "output_type": "execute_result",
          "data": {
            "text/plain": [
              "-2          629\n",
              " 6453883     63\n",
              " 6956477     41\n",
              " 6418973     35\n",
              " 5550313     34\n",
              " 5064182     34\n",
              " 2795419     32\n",
              " 6343172     32\n",
              " 6344055     32\n",
              " 3427039     32\n",
              " 5047960     31\n",
              " 5962762     29\n",
              " 5834813     29\n",
              " 5151558     29\n",
              " 6620240     29\n",
              " 6418417     28\n",
              " 5047703     27\n",
              " 3646422     26\n",
              " 4870668     26\n",
              " 4208888     26\n",
              "Name: appointment_added_by_id, dtype: int64"
            ]
          },
          "metadata": {
            "tags": []
          },
          "execution_count": 139
        }
      ]
    },
    {
      "cell_type": "markdown",
      "metadata": {
        "id": "Lw0Rkk1Ehtk7"
      },
      "source": [
        "У нас есть странный id -2, очевидно, это какое-то пропущенное значение, но не менеджер, возможно, это код стажеров. На всякий случай посмотрим и неуспешные звонки, проверим, есть ли такой код в них."
      ]
    },
    {
      "cell_type": "code",
      "metadata": {
        "colab": {
          "base_uri": "https://localhost:8080/"
        },
        "id": "E01fAQMkgvPa",
        "outputId": "7121bbf4-e6dc-4cdf-a470-3ed31cc44e41"
      },
      "source": [
        "unpaid.appointment_added_by_id.value_counts().head(20)"
      ],
      "execution_count": null,
      "outputs": [
        {
          "output_type": "execute_result",
          "data": {
            "text/plain": [
              "-2          663\n",
              " 6453883     46\n",
              " 5064182     43\n",
              " 5550313     42\n",
              " 2795419     42\n",
              " 6343172     41\n",
              " 3646444     34\n",
              " 4800176     32\n",
              " 6418417     31\n",
              " 4578767     30\n",
              " 4208888     29\n",
              " 5835289     27\n",
              " 3427039     27\n",
              " 4740585     26\n",
              " 5962762     26\n",
              " 6620250     25\n",
              " 6343199     25\n",
              " 5550077     25\n",
              " 3646384     24\n",
              " 6956477     24\n",
              "Name: appointment_added_by_id, dtype: int64"
            ]
          },
          "metadata": {
            "tags": []
          },
          "execution_count": 140
        }
      ]
    },
    {
      "cell_type": "markdown",
      "metadata": {
        "id": "wgoErcDqB1bH"
      },
      "source": [
        "Далее проверим временные значения: влияет ли то, как быстро менеджер позвонил, как быстро клиент ответил и дошел до первого урока на конверсию в оплату.\n",
        "\n",
        "Создам отдельную таблицу только с временными значениями и буду анализировать ее."
      ]
    },
    {
      "cell_type": "code",
      "metadata": {
        "id": "ECzVqE1zAKSV"
      },
      "source": [
        "data_time = pd.DataFrame(data, columns =['application_datetime', 'first_call', 'first_reach', 'trial_appointment_datetime', 'is_paid'])\n"
      ],
      "execution_count": null,
      "outputs": []
    },
    {
      "cell_type": "code",
      "metadata": {
        "colab": {
          "base_uri": "https://localhost:8080/",
          "height": 197
        },
        "id": "-qApOLx0kh1H",
        "outputId": "1825de4d-650c-4243-8418-13cf5f20e505"
      },
      "source": [
        "data_time.head()"
      ],
      "execution_count": null,
      "outputs": [
        {
          "output_type": "execute_result",
          "data": {
            "text/html": [
              "<div>\n",
              "<style scoped>\n",
              "    .dataframe tbody tr th:only-of-type {\n",
              "        vertical-align: middle;\n",
              "    }\n",
              "\n",
              "    .dataframe tbody tr th {\n",
              "        vertical-align: top;\n",
              "    }\n",
              "\n",
              "    .dataframe thead th {\n",
              "        text-align: right;\n",
              "    }\n",
              "</style>\n",
              "<table border=\"1\" class=\"dataframe\">\n",
              "  <thead>\n",
              "    <tr style=\"text-align: right;\">\n",
              "      <th></th>\n",
              "      <th>application_datetime</th>\n",
              "      <th>first_call</th>\n",
              "      <th>first_reach</th>\n",
              "      <th>trial_appointment_datetime</th>\n",
              "      <th>is_paid</th>\n",
              "    </tr>\n",
              "  </thead>\n",
              "  <tbody>\n",
              "    <tr>\n",
              "      <th>0</th>\n",
              "      <td>2020-04-03 04:10:45</td>\n",
              "      <td>2020-04-03 16:43:59.508792</td>\n",
              "      <td>2020-04-03 22:11:27.455366</td>\n",
              "      <td>2020-04-04 15:28:14.798018</td>\n",
              "      <td>0</td>\n",
              "    </tr>\n",
              "    <tr>\n",
              "      <th>1</th>\n",
              "      <td>2020-07-12 03:31:39</td>\n",
              "      <td>2020-07-12 04:47:12.312267</td>\n",
              "      <td>2020-07-12 07:05:38.094529</td>\n",
              "      <td>2020-07-12 15:02:07.545403</td>\n",
              "      <td>0</td>\n",
              "    </tr>\n",
              "    <tr>\n",
              "      <th>2</th>\n",
              "      <td>2020-02-01 03:19:28</td>\n",
              "      <td>2020-02-04 04:45:20.910754</td>\n",
              "      <td>2020-02-04 10:42:35.204203</td>\n",
              "      <td>2020-02-02 07:07:41.388133</td>\n",
              "      <td>0</td>\n",
              "    </tr>\n",
              "    <tr>\n",
              "      <th>3</th>\n",
              "      <td>2020-05-19 06:18:16</td>\n",
              "      <td>2020-05-19 07:18:45.609637</td>\n",
              "      <td>2020-05-19 08:39:54.048419</td>\n",
              "      <td>2020-05-19 13:01:02.901309</td>\n",
              "      <td>0</td>\n",
              "    </tr>\n",
              "    <tr>\n",
              "      <th>4</th>\n",
              "      <td>2020-02-09 21:59:18</td>\n",
              "      <td>2020-02-10 09:14:45.941424</td>\n",
              "      <td>2020-02-10 20:01:01.297674</td>\n",
              "      <td>2020-02-11 05:33:59.680231</td>\n",
              "      <td>0</td>\n",
              "    </tr>\n",
              "  </tbody>\n",
              "</table>\n",
              "</div>"
            ],
            "text/plain": [
              "  application_datetime  ... is_paid\n",
              "0  2020-04-03 04:10:45  ...       0\n",
              "1  2020-07-12 03:31:39  ...       0\n",
              "2  2020-02-01 03:19:28  ...       0\n",
              "3  2020-05-19 06:18:16  ...       0\n",
              "4  2020-02-09 21:59:18  ...       0\n",
              "\n",
              "[5 rows x 5 columns]"
            ]
          },
          "metadata": {
            "tags": []
          },
          "execution_count": 157
        }
      ]
    },
    {
      "cell_type": "code",
      "metadata": {
        "id": "a6AQ9CVAnN8V"
      },
      "source": [
        "import datetime as dt\n"
      ],
      "execution_count": null,
      "outputs": []
    },
    {
      "cell_type": "code",
      "metadata": {
        "colab": {
          "base_uri": "https://localhost:8080/",
          "height": 197
        },
        "id": "LB-cYs2Tt0QS",
        "outputId": "ea5c50f6-94d1-4848-92de-cb490c9c0bd8"
      },
      "source": [
        "data_time['dif_1'] = data_time['first_call'] - data_time['application_datetime']\n",
        "data_time['dif_2'] = data_time['first_reach'] - data_time['application_datetime']\n",
        "data_time['dif_3'] = data_time['trial_appointment_datetime'] - data_time['application_datetime']\n",
        "data_time.head()"
      ],
      "execution_count": null,
      "outputs": [
        {
          "output_type": "execute_result",
          "data": {
            "text/html": [
              "<div>\n",
              "<style scoped>\n",
              "    .dataframe tbody tr th:only-of-type {\n",
              "        vertical-align: middle;\n",
              "    }\n",
              "\n",
              "    .dataframe tbody tr th {\n",
              "        vertical-align: top;\n",
              "    }\n",
              "\n",
              "    .dataframe thead th {\n",
              "        text-align: right;\n",
              "    }\n",
              "</style>\n",
              "<table border=\"1\" class=\"dataframe\">\n",
              "  <thead>\n",
              "    <tr style=\"text-align: right;\">\n",
              "      <th></th>\n",
              "      <th>application_datetime</th>\n",
              "      <th>first_call</th>\n",
              "      <th>first_reach</th>\n",
              "      <th>trial_appointment_datetime</th>\n",
              "      <th>is_paid</th>\n",
              "      <th>dif_1</th>\n",
              "      <th>dif_2</th>\n",
              "      <th>dif_3</th>\n",
              "    </tr>\n",
              "  </thead>\n",
              "  <tbody>\n",
              "    <tr>\n",
              "      <th>0</th>\n",
              "      <td>2020-04-03 04:10:45</td>\n",
              "      <td>2020-04-03 16:43:59.508792</td>\n",
              "      <td>2020-04-03 22:11:27.455366</td>\n",
              "      <td>2020-04-04 15:28:14.798018</td>\n",
              "      <td>0</td>\n",
              "      <td>0 days 12:33:14.508792</td>\n",
              "      <td>0 days 18:00:42.455366</td>\n",
              "      <td>1 days 11:17:29.798018</td>\n",
              "    </tr>\n",
              "    <tr>\n",
              "      <th>1</th>\n",
              "      <td>2020-07-12 03:31:39</td>\n",
              "      <td>2020-07-12 04:47:12.312267</td>\n",
              "      <td>2020-07-12 07:05:38.094529</td>\n",
              "      <td>2020-07-12 15:02:07.545403</td>\n",
              "      <td>0</td>\n",
              "      <td>0 days 01:15:33.312267</td>\n",
              "      <td>0 days 03:33:59.094529</td>\n",
              "      <td>0 days 11:30:28.545403</td>\n",
              "    </tr>\n",
              "    <tr>\n",
              "      <th>2</th>\n",
              "      <td>2020-02-01 03:19:28</td>\n",
              "      <td>2020-02-04 04:45:20.910754</td>\n",
              "      <td>2020-02-04 10:42:35.204203</td>\n",
              "      <td>2020-02-02 07:07:41.388133</td>\n",
              "      <td>0</td>\n",
              "      <td>3 days 01:25:52.910754</td>\n",
              "      <td>3 days 07:23:07.204203</td>\n",
              "      <td>1 days 03:48:13.388133</td>\n",
              "    </tr>\n",
              "    <tr>\n",
              "      <th>3</th>\n",
              "      <td>2020-05-19 06:18:16</td>\n",
              "      <td>2020-05-19 07:18:45.609637</td>\n",
              "      <td>2020-05-19 08:39:54.048419</td>\n",
              "      <td>2020-05-19 13:01:02.901309</td>\n",
              "      <td>0</td>\n",
              "      <td>0 days 01:00:29.609637</td>\n",
              "      <td>0 days 02:21:38.048419</td>\n",
              "      <td>0 days 06:42:46.901309</td>\n",
              "    </tr>\n",
              "    <tr>\n",
              "      <th>4</th>\n",
              "      <td>2020-02-09 21:59:18</td>\n",
              "      <td>2020-02-10 09:14:45.941424</td>\n",
              "      <td>2020-02-10 20:01:01.297674</td>\n",
              "      <td>2020-02-11 05:33:59.680231</td>\n",
              "      <td>0</td>\n",
              "      <td>0 days 11:15:27.941424</td>\n",
              "      <td>0 days 22:01:43.297674</td>\n",
              "      <td>1 days 07:34:41.680231</td>\n",
              "    </tr>\n",
              "  </tbody>\n",
              "</table>\n",
              "</div>"
            ],
            "text/plain": [
              "  application_datetime  ...                  dif_3\n",
              "0  2020-04-03 04:10:45  ... 1 days 11:17:29.798018\n",
              "1  2020-07-12 03:31:39  ... 0 days 11:30:28.545403\n",
              "2  2020-02-01 03:19:28  ... 1 days 03:48:13.388133\n",
              "3  2020-05-19 06:18:16  ... 0 days 06:42:46.901309\n",
              "4  2020-02-09 21:59:18  ... 1 days 07:34:41.680231\n",
              "\n",
              "[5 rows x 8 columns]"
            ]
          },
          "metadata": {
            "tags": []
          },
          "execution_count": 158
        }
      ]
    },
    {
      "cell_type": "code",
      "metadata": {
        "colab": {
          "base_uri": "https://localhost:8080/"
        },
        "id": "7vSZ22Yc3UFO",
        "outputId": "8fe7b30b-0583-4697-c8a3-e071b549a2d0"
      },
      "source": [
        "print(\"Средняя разница между временем заявки и первым звонком менеджера для тех, кто внес первую оплатy:\")\n",
        "print(data_time[data_time['is_paid'] == 1][\"dif_1\"].mean())\n",
        "print()\n",
        "print(\"Средняя разница между временем заявки и первым звонком менеджера для тех, кто не внес первую оплатy:\")\n",
        "print(data_time[data_time['is_paid'] == 0][\"dif_1\"].mean())\n",
        "print()\n",
        "print(\"Средняя разница между временем заявки и первым дозвоном для тех, кто внес первую оплатy:\")\n",
        "print(data_time[data_time['is_paid'] == 1][\"dif_2\"].mean())\n",
        "print()\n",
        "print(\"Средняя разница между временем заявки и первым дозвоном  для тех, кто не внес первую оплатy:\")\n",
        "print(data_time[data_time['is_paid'] == 0][\"dif_2\"].mean())\n",
        "print()\n",
        "print(\"Средняя разница между временем заявки и временем проведения первого урока, кто внес первую оплатy:\")\n",
        "print(data_time[data_time['is_paid'] == 1][\"dif_3\"].mean())\n",
        "print()\n",
        "print(\"Средняя разница между временем заявки и временем проведения первого урока для тех, кто не внес первую оплатy:\")\n",
        "print(data_time[data_time['is_paid'] == 0][\"dif_3\"].mean())"
      ],
      "execution_count": null,
      "outputs": [
        {
          "output_type": "stream",
          "text": [
            "Средняя разница между временем заявки и первым звонком менеджера для тех, кто внес первую оплатy:\n",
            "6 days 20:23:20.802695283\n",
            "\n",
            "Средняя разница между временем заявки и первым звонком менеджера для тех, кто не внес первую оплатy:\n",
            "8 days 10:47:44.478581904\n",
            "\n",
            "Средняя разница между временем заявки и первым дозвоном для тех, кто внес первую оплатy:\n",
            "8 days 04:00:55.092501807\n",
            "\n",
            "Средняя разница между временем заявки и первым дозвоном  для тех, кто не внес первую оплатy:\n",
            "10 days 03:58:25.553559343\n",
            "\n",
            "Средняя разница между временем заявки и временем проведения первого урока, кто внес первую оплатy:\n",
            "4 days 03:23:27.779969082\n",
            "\n",
            "Средняя разница между временем заявки и временем проведения первого урока для тех, кто не внес первую оплатy:\n",
            "4 days 14:41:44.507210736\n"
          ],
          "name": "stdout"
        }
      ]
    },
    {
      "cell_type": "markdown",
      "metadata": {
        "id": "NQgU-Moj9Jst"
      },
      "source": [
        "Итак, мы видим, что во-первых, флоу обработки заявки соблюдается не всегда - получается, что в среднем сначала студенты проходят вводный урок, а затем им звонит менеджер. Однако на конверсию в продажу это не влияет.\n",
        "\n",
        "Однако среднее время дозвонов менеджера влияет на конверсию - чем раньше менеджеры дозваниваются, тем выше вероятность оплаты.\n",
        "\n",
        "Далее посмотрим, влияет ли сезон, месяц или день месяца и время суток на конверсию в заявку."
      ]
    },
    {
      "cell_type": "code",
      "metadata": {
        "id": "fyXCo6JthRVG"
      },
      "source": [
        "import datetime as dt\n"
      ],
      "execution_count": null,
      "outputs": []
    },
    {
      "cell_type": "code",
      "metadata": {
        "colab": {
          "base_uri": "https://localhost:8080/",
          "height": 197
        },
        "id": "tiOO6_xdm6Lt",
        "outputId": "0a98841d-e1c4-4e02-ead2-cd1ea92e212e"
      },
      "source": [
        "paid_time = pd.DataFrame(paid, columns =['application_datetime', 'first_call', 'first_reach', 'trial_appointment_datetime'])\n",
        "paid_time.head()"
      ],
      "execution_count": null,
      "outputs": [
        {
          "output_type": "execute_result",
          "data": {
            "text/html": [
              "<div>\n",
              "<style scoped>\n",
              "    .dataframe tbody tr th:only-of-type {\n",
              "        vertical-align: middle;\n",
              "    }\n",
              "\n",
              "    .dataframe tbody tr th {\n",
              "        vertical-align: top;\n",
              "    }\n",
              "\n",
              "    .dataframe thead th {\n",
              "        text-align: right;\n",
              "    }\n",
              "</style>\n",
              "<table border=\"1\" class=\"dataframe\">\n",
              "  <thead>\n",
              "    <tr style=\"text-align: right;\">\n",
              "      <th></th>\n",
              "      <th>application_datetime</th>\n",
              "      <th>first_call</th>\n",
              "      <th>first_reach</th>\n",
              "      <th>trial_appointment_datetime</th>\n",
              "    </tr>\n",
              "  </thead>\n",
              "  <tbody>\n",
              "    <tr>\n",
              "      <th>5</th>\n",
              "      <td>2020-09-03 22:46:59</td>\n",
              "      <td>2020-09-03 23:00:16.098750</td>\n",
              "      <td>NaT</td>\n",
              "      <td>2020-09-21 01:14:13.178574</td>\n",
              "    </tr>\n",
              "    <tr>\n",
              "      <th>6</th>\n",
              "      <td>2020-02-14 05:03:52</td>\n",
              "      <td>2020-02-19 04:31:07.631685</td>\n",
              "      <td>2020-02-19 10:12:25.115611</td>\n",
              "      <td>2020-02-15 07:31:47.111285</td>\n",
              "    </tr>\n",
              "    <tr>\n",
              "      <th>8</th>\n",
              "      <td>2020-08-10 21:18:25</td>\n",
              "      <td>2020-08-10 23:33:51.699656</td>\n",
              "      <td>2020-08-10 23:49:28.894191</td>\n",
              "      <td>2020-08-10 22:33:02.044346</td>\n",
              "    </tr>\n",
              "    <tr>\n",
              "      <th>9</th>\n",
              "      <td>2020-04-11 17:38:04</td>\n",
              "      <td>2020-04-11 20:21:28.672311</td>\n",
              "      <td>2020-04-12 00:24:45.477519</td>\n",
              "      <td>2020-04-12 13:17:15.117247</td>\n",
              "    </tr>\n",
              "    <tr>\n",
              "      <th>11</th>\n",
              "      <td>2020-04-05 17:12:54</td>\n",
              "      <td>2020-04-05 19:14:50.103635</td>\n",
              "      <td>2020-04-05 23:21:57.125363</td>\n",
              "      <td>2020-04-06 12:27:57.891760</td>\n",
              "    </tr>\n",
              "  </tbody>\n",
              "</table>\n",
              "</div>"
            ],
            "text/plain": [
              "   application_datetime  ... trial_appointment_datetime\n",
              "5   2020-09-03 22:46:59  ... 2020-09-21 01:14:13.178574\n",
              "6   2020-02-14 05:03:52  ... 2020-02-15 07:31:47.111285\n",
              "8   2020-08-10 21:18:25  ... 2020-08-10 22:33:02.044346\n",
              "9   2020-04-11 17:38:04  ... 2020-04-12 13:17:15.117247\n",
              "11  2020-04-05 17:12:54  ... 2020-04-06 12:27:57.891760\n",
              "\n",
              "[5 rows x 4 columns]"
            ]
          },
          "metadata": {
            "tags": []
          },
          "execution_count": 100
        }
      ]
    },
    {
      "cell_type": "code",
      "metadata": {
        "colab": {
          "base_uri": "https://localhost:8080/",
          "height": 197
        },
        "id": "dTPoBYByopT1",
        "outputId": "14ff9651-a36e-4a9d-e2fd-d16b5ecde8e6"
      },
      "source": [
        "unpaid_time = pd.DataFrame(unpaid, columns =['application_datetime', 'first_call', 'first_reach', 'trial_appointment_datetime'])\n",
        "unpaid_time.head()"
      ],
      "execution_count": null,
      "outputs": [
        {
          "output_type": "execute_result",
          "data": {
            "text/html": [
              "<div>\n",
              "<style scoped>\n",
              "    .dataframe tbody tr th:only-of-type {\n",
              "        vertical-align: middle;\n",
              "    }\n",
              "\n",
              "    .dataframe tbody tr th {\n",
              "        vertical-align: top;\n",
              "    }\n",
              "\n",
              "    .dataframe thead th {\n",
              "        text-align: right;\n",
              "    }\n",
              "</style>\n",
              "<table border=\"1\" class=\"dataframe\">\n",
              "  <thead>\n",
              "    <tr style=\"text-align: right;\">\n",
              "      <th></th>\n",
              "      <th>application_datetime</th>\n",
              "      <th>first_call</th>\n",
              "      <th>first_reach</th>\n",
              "      <th>trial_appointment_datetime</th>\n",
              "    </tr>\n",
              "  </thead>\n",
              "  <tbody>\n",
              "    <tr>\n",
              "      <th>0</th>\n",
              "      <td>2020-04-03 04:10:45</td>\n",
              "      <td>2020-04-03 16:43:59.508792</td>\n",
              "      <td>2020-04-03 22:11:27.455366</td>\n",
              "      <td>2020-04-04 15:28:14.798018</td>\n",
              "    </tr>\n",
              "    <tr>\n",
              "      <th>1</th>\n",
              "      <td>2020-07-12 03:31:39</td>\n",
              "      <td>2020-07-12 04:47:12.312267</td>\n",
              "      <td>2020-07-12 07:05:38.094529</td>\n",
              "      <td>2020-07-12 15:02:07.545403</td>\n",
              "    </tr>\n",
              "    <tr>\n",
              "      <th>2</th>\n",
              "      <td>2020-02-01 03:19:28</td>\n",
              "      <td>2020-02-04 04:45:20.910754</td>\n",
              "      <td>2020-02-04 10:42:35.204203</td>\n",
              "      <td>2020-02-02 07:07:41.388133</td>\n",
              "    </tr>\n",
              "    <tr>\n",
              "      <th>3</th>\n",
              "      <td>2020-05-19 06:18:16</td>\n",
              "      <td>2020-05-19 07:18:45.609637</td>\n",
              "      <td>2020-05-19 08:39:54.048419</td>\n",
              "      <td>2020-05-19 13:01:02.901309</td>\n",
              "    </tr>\n",
              "    <tr>\n",
              "      <th>4</th>\n",
              "      <td>2020-02-09 21:59:18</td>\n",
              "      <td>2020-02-10 09:14:45.941424</td>\n",
              "      <td>2020-02-10 20:01:01.297674</td>\n",
              "      <td>2020-02-11 05:33:59.680231</td>\n",
              "    </tr>\n",
              "  </tbody>\n",
              "</table>\n",
              "</div>"
            ],
            "text/plain": [
              "  application_datetime  ... trial_appointment_datetime\n",
              "0  2020-04-03 04:10:45  ... 2020-04-04 15:28:14.798018\n",
              "1  2020-07-12 03:31:39  ... 2020-07-12 15:02:07.545403\n",
              "2  2020-02-01 03:19:28  ... 2020-02-02 07:07:41.388133\n",
              "3  2020-05-19 06:18:16  ... 2020-05-19 13:01:02.901309\n",
              "4  2020-02-09 21:59:18  ... 2020-02-11 05:33:59.680231\n",
              "\n",
              "[5 rows x 4 columns]"
            ]
          },
          "metadata": {
            "tags": []
          },
          "execution_count": 193
        }
      ]
    },
    {
      "cell_type": "code",
      "metadata": {
        "id": "GxS3oq8wo_bk"
      },
      "source": [
        "paid_time[\"month\"] = paid_time['application_datetime'].dt.month\n",
        "paid_time[\"day\"] = paid_time['application_datetime'].dt.day\n",
        "paid_time[\"weekday\"] = paid_time['application_datetime'].dt.weekday"
      ],
      "execution_count": null,
      "outputs": []
    },
    {
      "cell_type": "code",
      "metadata": {
        "id": "vd3VOp6Gpkv6"
      },
      "source": [
        "unpaid_time[\"month\"] = unpaid_time['application_datetime'].dt.month\n",
        "unpaid_time[\"day\"] = unpaid_time['application_datetime'].dt.day\n",
        "unpaid_time[\"weekday\"] = unpaid_time['application_datetime'].dt.weekday"
      ],
      "execution_count": null,
      "outputs": []
    },
    {
      "cell_type": "code",
      "metadata": {
        "colab": {
          "base_uri": "https://localhost:8080/",
          "height": 296
        },
        "id": "MkoRGnN1qUud",
        "outputId": "850f4f33-e13e-4038-fd44-2ec4dc88809b"
      },
      "source": [
        "paid_time.groupby('month').month.count().plot()"
      ],
      "execution_count": null,
      "outputs": [
        {
          "output_type": "execute_result",
          "data": {
            "text/plain": [
              "<matplotlib.axes._subplots.AxesSubplot at 0x7f84c3d4d610>"
            ]
          },
          "metadata": {
            "tags": []
          },
          "execution_count": 187
        },
        {
          "output_type": "display_data",
          "data": {
            "image/png": "[encoded data removed]",
            "text/plain": [
              "<Figure size 432x288 with 1 Axes>"
            ]
          },
          "metadata": {
            "tags": [],
            "needs_background": "light"
          }
        }
      ]
    },
    {
      "cell_type": "code",
      "metadata": {
        "colab": {
          "base_uri": "https://localhost:8080/",
          "height": 296
        },
        "id": "HweNFyJjBkUo",
        "outputId": "462be0f2-3811-44a2-d4a6-e1c6dd2eccae"
      },
      "source": [
        "unpaid_time.groupby('month').month.count().plot()"
      ],
      "execution_count": null,
      "outputs": [
        {
          "output_type": "execute_result",
          "data": {
            "text/plain": [
              "<matplotlib.axes._subplots.AxesSubplot at 0x7f84c37782d0>"
            ]
          },
          "metadata": {
            "tags": []
          },
          "execution_count": 204
        },
        {
          "output_type": "display_data",
          "data": {
            "image/png": "[encoded data removed]",
            "text/plain": [
              "<Figure size 432x288 with 1 Axes>"
            ]
          },
          "metadata": {
            "tags": [],
            "needs_background": "light"
          }
        }
      ]
    },
    {
      "cell_type": "code",
      "metadata": {
        "colab": {
          "base_uri": "https://localhost:8080/",
          "height": 296
        },
        "id": "Wz3OwZC5_h9s",
        "outputId": "28631bfd-c273-4ede-b826-71676b80c69e"
      },
      "source": [
        "paid_time.groupby('day').day.count().plot()"
      ],
      "execution_count": null,
      "outputs": [
        {
          "output_type": "execute_result",
          "data": {
            "text/plain": [
              "<matplotlib.axes._subplots.AxesSubplot at 0x7f84c3ef4d50>"
            ]
          },
          "metadata": {
            "tags": []
          },
          "execution_count": 188
        },
        {
          "output_type": "display_data",
          "data": {
            "image/png": "[encoded data removed]",
            "text/plain": [
              "<Figure size 432x288 with 1 Axes>"
            ]
          },
          "metadata": {
            "tags": [],
            "needs_background": "light"
          }
        }
      ]
    },
    {
      "cell_type": "code",
      "metadata": {
        "colab": {
          "base_uri": "https://localhost:8080/",
          "height": 296
        },
        "id": "R5k8RVL-AwyC",
        "outputId": "a7f934d1-a4f3-4a81-a6f9-a8bff800a056"
      },
      "source": [
        "unpaid_time.groupby('day').day.count().plot()"
      ],
      "execution_count": null,
      "outputs": [
        {
          "output_type": "execute_result",
          "data": {
            "text/plain": [
              "<matplotlib.axes._subplots.AxesSubplot at 0x7f84c383a050>"
            ]
          },
          "metadata": {
            "tags": []
          },
          "execution_count": 203
        },
        {
          "output_type": "display_data",
          "data": {
            "image/png": "[encoded data removed]",
            "text/plain": [
              "<Figure size 432x288 with 1 Axes>"
            ]
          },
          "metadata": {
            "tags": [],
            "needs_background": "light"
          }
        }
      ]
    },
    {
      "cell_type": "code",
      "metadata": {
        "colab": {
          "base_uri": "https://localhost:8080/",
          "height": 296
        },
        "id": "31rVG-U8_vu7",
        "outputId": "7180bb53-2c2f-4209-9bf4-ea9429f0b1ab"
      },
      "source": [
        "paid_time.groupby('weekday').weekday.count().plot()"
      ],
      "execution_count": null,
      "outputs": [
        {
          "output_type": "execute_result",
          "data": {
            "text/plain": [
              "<matplotlib.axes._subplots.AxesSubplot at 0x7f84c3e8a3d0>"
            ]
          },
          "metadata": {
            "tags": []
          },
          "execution_count": 199
        },
        {
          "output_type": "display_data",
          "data": {
            "image/png": "[encoded data removed]",
            "text/plain": [
              "<Figure size 432x288 with 1 Axes>"
            ]
          },
          "metadata": {
            "tags": [],
            "needs_background": "light"
          }
        }
      ]
    },
    {
      "cell_type": "code",
      "metadata": {
        "id": "wZnbZGi6q1ck",
        "colab": {
          "base_uri": "https://localhost:8080/",
          "height": 296
        },
        "outputId": "0206cd48-9eeb-4ef2-b534-eb73812b80ca"
      },
      "source": [
        "unpaid_time.groupby('weekday').weekday.count().plot()"
      ],
      "execution_count": null,
      "outputs": [
        {
          "output_type": "execute_result",
          "data": {
            "text/plain": [
              "<matplotlib.axes._subplots.AxesSubplot at 0x7f84c36eaa50>"
            ]
          },
          "metadata": {
            "tags": []
          },
          "execution_count": 205
        },
        {
          "output_type": "display_data",
          "data": {
            "image/png": "[encoded data removed]",
            "text/plain": [
              "<Figure size 432x288 with 1 Axes>"
            ]
          },
          "metadata": {
            "tags": [],
            "needs_background": "light"
          }
        }
      ]
    },
    {
      "cell_type": "markdown",
      "metadata": {
        "id": "skb03vXaC29d"
      },
      "source": [
        "Среди тех, кто оставил заявку, зависимость успеха и неуспеха от месяца не отличаются - и успешных, и неуспешных больше в начале и ближе у концу года и меньше в летние месяцы, это может означать, что летом просто падает спрос, и количество заявок вообще.\n",
        "\n",
        "Зависимость конверсии от чисел месяца тоже особо не прослеживается.\n",
        "\n",
        "Зато прослеживается зависимость успешных заявок от дня недели - оплату в большей степени вносили ребята, зарегистрировшиеся во вторник и пятницу. Среди тех, кто оставлял заявки в среду, больше всего отказов."
      ]
    },
    {
      "cell_type": "code",
      "metadata": {
        "id": "bOaqTEKyPEyY"
      },
      "source": [
        "Теперь посмотрим на время, в которое менеджеры дозванивались до клиентов."
      ],
      "execution_count": null,
      "outputs": []
    },
    {
      "cell_type": "code",
      "metadata": {
        "id": "4-3VzJy8EaK2"
      },
      "source": [
        "paid_time[\"hour\"] = paid_time['first_reach'].dt.hour\n",
        "unpaid_time[\"hour\"] = unpaid_time['first_reach'].dt.hour"
      ],
      "execution_count": null,
      "outputs": []
    },
    {
      "cell_type": "code",
      "metadata": {
        "colab": {
          "base_uri": "https://localhost:8080/",
          "height": 197
        },
        "id": "1OLomIMJOJ1Y",
        "outputId": "8981b1b9-28f5-4e1a-ff5c-c7d30e9d8111"
      },
      "source": [
        "paid_time.head()"
      ],
      "execution_count": null,
      "outputs": [
        {
          "output_type": "execute_result",
          "data": {
            "text/html": [
              "<div>\n",
              "<style scoped>\n",
              "    .dataframe tbody tr th:only-of-type {\n",
              "        vertical-align: middle;\n",
              "    }\n",
              "\n",
              "    .dataframe tbody tr th {\n",
              "        vertical-align: top;\n",
              "    }\n",
              "\n",
              "    .dataframe thead th {\n",
              "        text-align: right;\n",
              "    }\n",
              "</style>\n",
              "<table border=\"1\" class=\"dataframe\">\n",
              "  <thead>\n",
              "    <tr style=\"text-align: right;\">\n",
              "      <th></th>\n",
              "      <th>application_datetime</th>\n",
              "      <th>first_call</th>\n",
              "      <th>first_reach</th>\n",
              "      <th>trial_appointment_datetime</th>\n",
              "      <th>month</th>\n",
              "      <th>day</th>\n",
              "      <th>weekday</th>\n",
              "      <th>hour</th>\n",
              "    </tr>\n",
              "  </thead>\n",
              "  <tbody>\n",
              "    <tr>\n",
              "      <th>5</th>\n",
              "      <td>2020-09-03 22:46:59</td>\n",
              "      <td>2020-09-03 23:00:16.098750</td>\n",
              "      <td>NaT</td>\n",
              "      <td>2020-09-21 01:14:13.178574</td>\n",
              "      <td>9</td>\n",
              "      <td>3</td>\n",
              "      <td>22</td>\n",
              "      <td>NaN</td>\n",
              "    </tr>\n",
              "    <tr>\n",
              "      <th>6</th>\n",
              "      <td>2020-02-14 05:03:52</td>\n",
              "      <td>2020-02-19 04:31:07.631685</td>\n",
              "      <td>2020-02-19 10:12:25.115611</td>\n",
              "      <td>2020-02-15 07:31:47.111285</td>\n",
              "      <td>2</td>\n",
              "      <td>14</td>\n",
              "      <td>5</td>\n",
              "      <td>10.0</td>\n",
              "    </tr>\n",
              "    <tr>\n",
              "      <th>8</th>\n",
              "      <td>2020-08-10 21:18:25</td>\n",
              "      <td>2020-08-10 23:33:51.699656</td>\n",
              "      <td>2020-08-10 23:49:28.894191</td>\n",
              "      <td>2020-08-10 22:33:02.044346</td>\n",
              "      <td>8</td>\n",
              "      <td>10</td>\n",
              "      <td>21</td>\n",
              "      <td>23.0</td>\n",
              "    </tr>\n",
              "    <tr>\n",
              "      <th>9</th>\n",
              "      <td>2020-04-11 17:38:04</td>\n",
              "      <td>2020-04-11 20:21:28.672311</td>\n",
              "      <td>2020-04-12 00:24:45.477519</td>\n",
              "      <td>2020-04-12 13:17:15.117247</td>\n",
              "      <td>4</td>\n",
              "      <td>11</td>\n",
              "      <td>17</td>\n",
              "      <td>0.0</td>\n",
              "    </tr>\n",
              "    <tr>\n",
              "      <th>11</th>\n",
              "      <td>2020-04-05 17:12:54</td>\n",
              "      <td>2020-04-05 19:14:50.103635</td>\n",
              "      <td>2020-04-05 23:21:57.125363</td>\n",
              "      <td>2020-04-06 12:27:57.891760</td>\n",
              "      <td>4</td>\n",
              "      <td>5</td>\n",
              "      <td>17</td>\n",
              "      <td>23.0</td>\n",
              "    </tr>\n",
              "  </tbody>\n",
              "</table>\n",
              "</div>"
            ],
            "text/plain": [
              "   application_datetime                 first_call  ... weekday  hour\n",
              "5   2020-09-03 22:46:59 2020-09-03 23:00:16.098750  ...      22   NaN\n",
              "6   2020-02-14 05:03:52 2020-02-19 04:31:07.631685  ...       5  10.0\n",
              "8   2020-08-10 21:18:25 2020-08-10 23:33:51.699656  ...      21  23.0\n",
              "9   2020-04-11 17:38:04 2020-04-11 20:21:28.672311  ...      17   0.0\n",
              "11  2020-04-05 17:12:54 2020-04-05 19:14:50.103635  ...      17  23.0\n",
              "\n",
              "[5 rows x 8 columns]"
            ]
          },
          "metadata": {
            "tags": []
          },
          "execution_count": 208
        }
      ]
    },
    {
      "cell_type": "code",
      "metadata": {
        "colab": {
          "base_uri": "https://localhost:8080/",
          "height": 296
        },
        "id": "ya0pPIeyOUY4",
        "outputId": "98349dee-fcd4-4f54-f324-590647d67ae2"
      },
      "source": [
        "paid_time.groupby('hour').hour.count().plot()"
      ],
      "execution_count": null,
      "outputs": [
        {
          "output_type": "execute_result",
          "data": {
            "text/plain": [
              "<matplotlib.axes._subplots.AxesSubplot at 0x7f84c36ae790>"
            ]
          },
          "metadata": {
            "tags": []
          },
          "execution_count": 210
        },
        {
          "output_type": "display_data",
          "data": {
            "image/png": "[encoded data removed]",
            "text/plain": [
              "<Figure size 432x288 with 1 Axes>"
            ]
          },
          "metadata": {
            "tags": [],
            "needs_background": "light"
          }
        }
      ]
    },
    {
      "cell_type": "code",
      "metadata": {
        "colab": {
          "base_uri": "https://localhost:8080/",
          "height": 296
        },
        "id": "24MjeW4nPXop",
        "outputId": "c56964d6-fcfa-4375-faf5-cde2e239a4d8"
      },
      "source": [
        "unpaid_time.groupby('hour').hour.count().plot()"
      ],
      "execution_count": null,
      "outputs": [
        {
          "output_type": "execute_result",
          "data": {
            "text/plain": [
              "<matplotlib.axes._subplots.AxesSubplot at 0x7f84c36eae50>"
            ]
          },
          "metadata": {
            "tags": []
          },
          "execution_count": 213
        },
        {
          "output_type": "display_data",
          "data": {
            "image/png": "[encoded data removed]",
            "text/plain": [
              "<Figure size 432x288 with 1 Axes>"
            ]
          },
          "metadata": {
            "tags": [],
            "needs_background": "light"
          }
        }
      ]
    },
    {
      "cell_type": "code",
      "metadata": {
        "colab": {
          "base_uri": "https://localhost:8080/"
        },
        "id": "-Fd8CPtDOjyh",
        "outputId": "37542e63-8e31-4f1e-da3a-ccf8149b43d6"
      },
      "source": [
        "paid_time.groupby('hour').hour.count()"
      ],
      "execution_count": null,
      "outputs": [
        {
          "output_type": "execute_result",
          "data": {
            "text/plain": [
              "hour\n",
              "0.0     184\n",
              "1.0     215\n",
              "2.0     219\n",
              "3.0     200\n",
              "4.0     205\n",
              "5.0     209\n",
              "6.0     198\n",
              "7.0     187\n",
              "8.0     201\n",
              "9.0     197\n",
              "10.0    203\n",
              "11.0    203\n",
              "12.0    202\n",
              "13.0    181\n",
              "14.0    202\n",
              "15.0    187\n",
              "16.0    206\n",
              "17.0    187\n",
              "18.0    185\n",
              "19.0    213\n",
              "20.0    190\n",
              "21.0    179\n",
              "22.0    209\n",
              "23.0    172\n",
              "Name: hour, dtype: int64"
            ]
          },
          "metadata": {
            "tags": []
          },
          "execution_count": 211
        }
      ]
    },
    {
      "cell_type": "code",
      "metadata": {
        "colab": {
          "base_uri": "https://localhost:8080/"
        },
        "id": "ubGV76s1Pf5v",
        "outputId": "13a15d3c-33e0-4aff-e41d-40761a4d5123"
      },
      "source": [
        "unpaid_time.groupby('hour').hour.count()"
      ],
      "execution_count": null,
      "outputs": [
        {
          "output_type": "execute_result",
          "data": {
            "text/plain": [
              "hour\n",
              "0.0     208\n",
              "1.0     192\n",
              "2.0     204\n",
              "3.0     170\n",
              "4.0     167\n",
              "5.0     195\n",
              "6.0     206\n",
              "7.0     193\n",
              "8.0     203\n",
              "9.0     173\n",
              "10.0    197\n",
              "11.0    192\n",
              "12.0    212\n",
              "13.0    168\n",
              "14.0    184\n",
              "15.0    218\n",
              "16.0    213\n",
              "17.0    206\n",
              "18.0    201\n",
              "19.0    226\n",
              "20.0    188\n",
              "21.0    164\n",
              "22.0    195\n",
              "23.0    209\n",
              "Name: hour, dtype: int64"
            ]
          },
          "metadata": {
            "tags": []
          },
          "execution_count": 216
        }
      ]
    },
    {
      "cell_type": "markdown",
      "metadata": {
        "id": "xoNx8RLbPwuI"
      },
      "source": [
        "Из графиков и количества дозвонов/недозвонов по часам видим, что время суток не влияет на оплату."
      ]
    },
    {
      "cell_type": "markdown",
      "metadata": {
        "id": "d1TA80lEP_Po"
      },
      "source": [
        "# **Итог**\n",
        "\n",
        "Мы видим, что из всех данных на результат влияет только скорость с которой менеджер дозвонился до клиента и день, в который клиент оставил заявку.\n",
        "\n",
        "Задача была в том, чтобы составить менеджерам инструкции для улучшения конверсии:\n",
        "\n",
        "###Инструкции для менеджеров:\n",
        "1. Обрабатываейте заявки как можно быстрее. Чем быстрее вы дозвонитесь до клиента, тем выше вероятность того, что он сделает оплату.\n",
        "2. В первую очередь звоните клиентам, которые оставили заявки во вторник и пятницу, они больше всего конвертируются в оплаты. Те, что оставили заявку в среду покупают реже всего.\n",
        "3. Узнайте, как работают с клиентами менеджеры с id 6453883, 6956477, 6418973, 5550313, 5064182 - у них больше всего оплат за текущий период."
      ]
    }
  ]
}